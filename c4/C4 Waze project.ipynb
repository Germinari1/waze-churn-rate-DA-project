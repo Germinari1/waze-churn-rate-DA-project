{
 "cells": [
  {
   "cell_type": "markdown",
   "metadata": {
    "id": "DtNBZFHO3M7n"
   },
   "source": [
    "# **Waze Project** - Statistical Analysis\n"
   ]
  },
  {
   "cell_type": "markdown",
   "metadata": {
    "id": "WVeXS7BNzX6e"
   },
   "source": [
    "Your team is nearing the midpoint of their user churn project. So far, we’ve completed a project proposal, and used Python to explore and analyze Waze’s user data. We’ve also used Python to create data visualizations. The next step is to use statistical methods to analyze and interpret your data.\n",
    "\n",
    "You receive a new email from Sylvester Esperanza, your project manager. Sylvester tells your team about a new request from leadership: to analyze the relationship between mean amount of rides and device type. You also discover follow-up emails from three other team members: May Santner, Chidi Ga, and Harriet Hadzic. These emails discuss the details of the analysis. They would like a statistical analysis of ride data based on device type. In particular, leadership wants to know if there is a statistically significant difference in mean amount of rides between iPhone® users and Android™ users. A final email from Chidi includes your specific assignment: to conduct a two-sample hypothesis test (t-test) to analyze the difference in the mean amount of rides between iPhone users and Android users"
   ]
  },
  {
   "cell_type": "markdown",
   "metadata": {
    "id": "rgSbVJvomcVa"
   },
   "source": [
    "**Data exploration and hypothesis testing**\n",
    "\n",
    "We will explore the data provided and conduct a hypothesis test.\n",
    "<br/>\n",
    "\n",
    "*This effort has three parts:*\n",
    "\n",
    "**Part 1:** Imports and data loading\n",
    "\n",
    "**Part 2:** Conduct hypothesis testing\n",
    "\n",
    "**Part 3:** Communicate insights with stakeholders\n",
    "\n",
    "<br>"
   ]
  },
  {
   "cell_type": "markdown",
   "metadata": {
    "id": "9GHVSxqehVpv"
   },
   "source": [
    "# **Data exploration and hypothesis testing**"
   ]
  },
  {
   "cell_type": "markdown",
   "metadata": {
    "id": "N8qrn_UAzX6j"
   },
   "source": [
    "<img src=\"images/Pace.png\" width=\"100\" height=\"100\" align=left>\n",
    "\n",
    "# **PACE stages**\n"
   ]
  },
  {
   "cell_type": "markdown",
   "metadata": {
    "id": "Bb1HNu3FzX6k"
   },
   "source": [
    "<img src=\"images/Plan.png\" width=\"100\" height=\"100\" align=left>\n",
    "\n",
    "\n",
    "## **PACE: Plan**\n",
    "\n",
    "1. What is the research question for this data project? Later on, we will need to formulate the null and alternative hypotheses as the first step of the hypothesis test.\n"
   ]
  },
  {
   "cell_type": "markdown",
   "metadata": {
    "id": "F6_h60RuXQIz"
   },
   "source": [
    "Do Android and iPhone users have the same mean number of uses of the app (times a user opens the app)?"
   ]
  },
  {
   "cell_type": "markdown",
   "metadata": {
    "id": "xgQEdIN7f1Jq"
   },
   "source": [
    "### **Task 1. Imports and data loading**\n",
    "\n",
    "\n"
   ]
  },
  {
   "cell_type": "markdown",
   "metadata": {
    "id": "ehehvUzFj0-e"
   },
   "source": [
    "Import packages and libraries needed to compute descriptive statistics and conduct a hypothesis test."
   ]
  },
  {
   "cell_type": "code",
   "execution_count": 4,
   "metadata": {
    "id": "1Q-GL2UrgWWG"
   },
   "outputs": [],
   "source": [
    "# Import any relevant packages and libraries\n",
    "import pandas as pd\n",
    "from scipy import stats"
   ]
  },
  {
   "cell_type": "code",
   "execution_count": 5,
   "metadata": {
    "id": "2qAt6Upaeg6U"
   },
   "outputs": [],
   "source": [
    "# Load dataset into dataframe\n",
    "df = pd.read_csv('waze_dataset.csv')"
   ]
  },
  {
   "cell_type": "markdown",
   "metadata": {
    "id": "c8paWsdKzX6o"
   },
   "source": [
    "<img src=\"images/Analyze.png\" width=\"100\" height=\"100\" align=left>\n",
    "\n",
    "<img src=\"images/Construct.png\" width=\"100\" height=\"100\" align=left>\n",
    "\n",
    "## **PACE: Analyze and Construct**\n"
   ]
  },
  {
   "cell_type": "markdown",
   "metadata": {
    "id": "UKhYTdVhf5B2"
   },
   "source": [
    "### **Task 2. Data exploration**\n",
    "\n",
    "Use descriptive statistics to conduct exploratory data analysis (EDA)."
   ]
  },
  {
   "cell_type": "markdown",
   "metadata": {
    "id": "JAq7ag0pTNgl"
   },
   "source": [
    "**Note:** In the dataset, `device` is a categorical variable with the labels `iPhone` and `Android`.\n",
    "\n",
    "In order to perform this analysis, we must turn each label into an integer.  The following code assigns a `1` for an `iPhone` user and a `2` for `Android`.  It assigns this label back to the variable `device_new`.\n",
    "\n",
    "**Note:** Creating a new variable is ideal so that we don't overwrite original data."
   ]
  },
  {
   "cell_type": "markdown",
   "metadata": {
    "id": "GaJ4golwD8et"
   },
   "source": [
    "1. Create a dictionary called `map_dictionary` that contains the class labels (`'Android'` and `'iPhone'`) for keys and the values you want to convert them to (`2` and `1`) as values.\n",
    "\n",
    "2. Create a new column called `device_type` that is a copy of the `device` column.\n",
    "\n",
    "3. Use the [`map()`](https://pandas.pydata.org/docs/reference/api/pandas.Series.map.html#pandas-series-map) method on the `device_type` series. Pass `map_dictionary` as its argument. Reassign the result back to the `device_type` series.\n",
    "</br></br>\n",
    "When we pass a dictionary to the `Series.map()` method, it will replace the data in the series where that data matches the dictionary's keys. The values that get imputed are the values of the dictionary.\n",
    "\n",
    "```\n",
    "Example:\n",
    "df['column']\n",
    "```\n",
    "\n",
    "|column |\n",
    "|  :-:       |\n",
    "| A     |\n",
    "| B     |\n",
    "| A     |\n",
    "| B     |\n",
    "\n",
    "```\n",
    "map_dictionary = {'A': 2, 'B': 1}\n",
    "df['column'] = df['column'].map(map_dictionary)\n",
    "df['column']\n",
    "```\n",
    "\n",
    "|column |\n",
    "|  :-: |\n",
    "| 2    |\n",
    "| 1    |\n",
    "| 2    |\n",
    "| 1    |\n"
   ]
  },
  {
   "cell_type": "code",
   "execution_count": 9,
   "metadata": {
    "id": "piHSZbnjEXw-"
   },
   "outputs": [
    {
     "data": {
      "text/html": [
       "<div>\n",
       "<style scoped>\n",
       "    .dataframe tbody tr th:only-of-type {\n",
       "        vertical-align: middle;\n",
       "    }\n",
       "\n",
       "    .dataframe tbody tr th {\n",
       "        vertical-align: top;\n",
       "    }\n",
       "\n",
       "    .dataframe thead th {\n",
       "        text-align: right;\n",
       "    }\n",
       "</style>\n",
       "<table border=\"1\" class=\"dataframe\">\n",
       "  <thead>\n",
       "    <tr style=\"text-align: right;\">\n",
       "      <th></th>\n",
       "      <th>ID</th>\n",
       "      <th>label</th>\n",
       "      <th>sessions</th>\n",
       "      <th>drives</th>\n",
       "      <th>total_sessions</th>\n",
       "      <th>n_days_after_onboarding</th>\n",
       "      <th>total_navigations_fav1</th>\n",
       "      <th>total_navigations_fav2</th>\n",
       "      <th>driven_km_drives</th>\n",
       "      <th>duration_minutes_drives</th>\n",
       "      <th>activity_days</th>\n",
       "      <th>driving_days</th>\n",
       "      <th>device</th>\n",
       "      <th>device_type</th>\n",
       "    </tr>\n",
       "  </thead>\n",
       "  <tbody>\n",
       "    <tr>\n",
       "      <th>0</th>\n",
       "      <td>0</td>\n",
       "      <td>retained</td>\n",
       "      <td>283</td>\n",
       "      <td>226</td>\n",
       "      <td>296.748273</td>\n",
       "      <td>2276</td>\n",
       "      <td>208</td>\n",
       "      <td>0</td>\n",
       "      <td>2628.845068</td>\n",
       "      <td>1985.775061</td>\n",
       "      <td>28</td>\n",
       "      <td>19</td>\n",
       "      <td>Android</td>\n",
       "      <td>2</td>\n",
       "    </tr>\n",
       "    <tr>\n",
       "      <th>1</th>\n",
       "      <td>1</td>\n",
       "      <td>retained</td>\n",
       "      <td>133</td>\n",
       "      <td>107</td>\n",
       "      <td>326.896596</td>\n",
       "      <td>1225</td>\n",
       "      <td>19</td>\n",
       "      <td>64</td>\n",
       "      <td>13715.920550</td>\n",
       "      <td>3160.472914</td>\n",
       "      <td>13</td>\n",
       "      <td>11</td>\n",
       "      <td>iPhone</td>\n",
       "      <td>1</td>\n",
       "    </tr>\n",
       "    <tr>\n",
       "      <th>2</th>\n",
       "      <td>2</td>\n",
       "      <td>retained</td>\n",
       "      <td>114</td>\n",
       "      <td>95</td>\n",
       "      <td>135.522926</td>\n",
       "      <td>2651</td>\n",
       "      <td>0</td>\n",
       "      <td>0</td>\n",
       "      <td>3059.148818</td>\n",
       "      <td>1610.735904</td>\n",
       "      <td>14</td>\n",
       "      <td>8</td>\n",
       "      <td>Android</td>\n",
       "      <td>2</td>\n",
       "    </tr>\n",
       "    <tr>\n",
       "      <th>3</th>\n",
       "      <td>3</td>\n",
       "      <td>retained</td>\n",
       "      <td>49</td>\n",
       "      <td>40</td>\n",
       "      <td>67.589221</td>\n",
       "      <td>15</td>\n",
       "      <td>322</td>\n",
       "      <td>7</td>\n",
       "      <td>913.591123</td>\n",
       "      <td>587.196542</td>\n",
       "      <td>7</td>\n",
       "      <td>3</td>\n",
       "      <td>iPhone</td>\n",
       "      <td>1</td>\n",
       "    </tr>\n",
       "    <tr>\n",
       "      <th>4</th>\n",
       "      <td>4</td>\n",
       "      <td>retained</td>\n",
       "      <td>84</td>\n",
       "      <td>68</td>\n",
       "      <td>168.247020</td>\n",
       "      <td>1562</td>\n",
       "      <td>166</td>\n",
       "      <td>5</td>\n",
       "      <td>3950.202008</td>\n",
       "      <td>1219.555924</td>\n",
       "      <td>27</td>\n",
       "      <td>18</td>\n",
       "      <td>Android</td>\n",
       "      <td>2</td>\n",
       "    </tr>\n",
       "  </tbody>\n",
       "</table>\n",
       "</div>"
      ],
      "text/plain": [
       "   ID     label  sessions  drives  total_sessions  n_days_after_onboarding  \\\n",
       "0   0  retained       283     226      296.748273                     2276   \n",
       "1   1  retained       133     107      326.896596                     1225   \n",
       "2   2  retained       114      95      135.522926                     2651   \n",
       "3   3  retained        49      40       67.589221                       15   \n",
       "4   4  retained        84      68      168.247020                     1562   \n",
       "\n",
       "   total_navigations_fav1  total_navigations_fav2  driven_km_drives  \\\n",
       "0                     208                       0       2628.845068   \n",
       "1                      19                      64      13715.920550   \n",
       "2                       0                       0       3059.148818   \n",
       "3                     322                       7        913.591123   \n",
       "4                     166                       5       3950.202008   \n",
       "\n",
       "   duration_minutes_drives  activity_days  driving_days   device  device_type  \n",
       "0              1985.775061             28            19  Android            2  \n",
       "1              3160.472914             13            11   iPhone            1  \n",
       "2              1610.735904             14             8  Android            2  \n",
       "3               587.196542              7             3   iPhone            1  \n",
       "4              1219.555924             27            18  Android            2  "
      ]
     },
     "execution_count": 9,
     "metadata": {},
     "output_type": "execute_result"
    }
   ],
   "source": [
    "# 1. Create a dictionary map\n",
    "dict_map = {'iPhone': 1, 'Android': 2}\n",
    "\n",
    "# 2. Create new `device_type` column\n",
    "df['device_type'] = df['device']\n",
    "# 3. Map the new column to the dictionary\n",
    "df['device_type'] = df['device'].map(dict_map)\n",
    "df.head(5)"
   ]
  },
  {
   "cell_type": "markdown",
   "metadata": {
    "id": "-fFiNg4hdGBK"
   },
   "source": [
    "We are interested in the relationship between device type and the number of drives. One approach is to look at the average number of drives for each device type. Calculate these averages."
   ]
  },
  {
   "cell_type": "code",
   "execution_count": 25,
   "metadata": {
    "id": "2LGEWrdVXgI2"
   },
   "outputs": [
    {
     "name": "stdout",
     "output_type": "stream",
     "text": [
      "device_type\n",
      "1    67.859078\n",
      "2    66.231838\n",
      "Name: drives, dtype: float64\n",
      "Percentage difference: 1.63%\n"
     ]
    }
   ],
   "source": [
    "#group data based on device type\n",
    "grouped_dev = df.groupby('device_type')['drives'].mean()\n",
    "diff = grouped_dev.iloc[0] - grouped_dev.iloc[1] \n",
    "print(grouped_dev)\n",
    "print(f\"Percentage difference: {diff:.2f}%\")"
   ]
  },
  {
   "cell_type": "markdown",
   "metadata": {
    "id": "Z_u-zWvGdfII"
   },
   "source": [
    "Based on the averages shown, it appears that drivers who use an iPhone device to interact with the application have a higher number of drives on average. However, this difference might arise from random sampling, rather than being a true difference in the number of drives. To assess whether the difference is statistically significant, we can conduct a hypothesis test."
   ]
  },
  {
   "cell_type": "markdown",
   "metadata": {
    "id": "QpFRQDaNzX6p"
   },
   "source": [
    "\n",
    "### **Task 3. Hypothesis testing**\n",
    "\n",
    "Our goal is to conduct a two-sample t-test. Steps for conducting a hypothesis test:\n",
    "\n",
    "\n",
    "1.   State the null hypothesis and the alternative hypothesis\n",
    "2.   Choose a signficance level\n",
    "3.   Find the p-value\n",
    "4.   Reject or fail to reject the null hypothesis\n",
    "\n",
    "**Note:** This is a t-test for two independent samples. This is the appropriate test since the two groups are independent (Android users vs. iPhone users)."
   ]
  },
  {
   "cell_type": "markdown",
   "metadata": {
    "id": "phXxr74vVPrs"
   },
   "source": [
    "Recall the difference between the null hypothesis ($H_0$) and the alternative hypothesis ($H_A$).\n",
    "\n",
    "**Hypotheses**:\n",
    "\n",
    "𝐻0\n",
    " : There is not an actuall difference in the mean number of times users of iPhone and Android open Waze app.\n",
    "\n",
    "𝐻𝐴\n",
    " : There is an actuall difference in the mean number of times users of iPhone and Android open Waze app."
   ]
  },
  {
   "cell_type": "markdown",
   "metadata": {
    "id": "IVHpnfvNeTUA"
   },
   "source": [
    "Next, choose 5% as the significance level and proceed with a two-sample t-test.\n",
    "\n",
    "\n",
    "**Technical note**: The default for the argument `equal_var` in `stats.ttest_ind()` is `True`, which assumes population variances are equal. This equal variance assumption might not hold in practice (that is, there is no strong reason to assume that the two groups have the same variance); you can relax this assumption by setting `equal_var` to `False`, and `stats.ttest_ind()` will perform the unequal variances $t$-test (known as Welch's `t`-test). Refer to the [scipy t-test documentation](https://docs.scipy.org/doc/scipy/reference/generated/scipy.stats.ttest_ind.html) for more information.\n",
    "\n",
    "\n",
    "1. Isolate the `drives` column for iPhone users.\n",
    "2. Isolate the `drives` column for Android users.\n",
    "3. Perform the t-test"
   ]
  },
  {
   "cell_type": "code",
   "execution_count": 28,
   "metadata": {
    "id": "rdlsXg7Dhbrd"
   },
   "outputs": [
    {
     "data": {
      "text/plain": [
       "Ttest_indResult(statistic=1.4635232068852353, pvalue=0.1433519726802059)"
      ]
     },
     "execution_count": 28,
     "metadata": {},
     "output_type": "execute_result"
    }
   ],
   "source": [
    "#Set significance level\n",
    "SL =  0.05\n",
    "\n",
    "# 1. Isolate the `drives` column for iPhone users.\n",
    "ip_drives = df[df['device_type'] == 1]['drives']\n",
    "\n",
    "# 2. Isolate the `drives` column for Android users.\n",
    "and_drives = df[df['device_type'] == 2]['drives']\n",
    "\n",
    "# 3. Perform the t-test\n",
    "stats.ttest_ind(a=ip_drives, b=and_drives, equal_var=False)"
   ]
  },
  {
   "cell_type": "markdown",
   "metadata": {
    "id": "64Wq_VSaVsNm"
   },
   "source": [
    "**Question:** Based on the p-value obtained above, do we reject or fail to reject the null hypothesis?"
   ]
  },
  {
   "cell_type": "markdown",
   "metadata": {
    "id": "SGLHv2FY1P2-"
   },
   "source": [
    "> Based on the p_value of 14.33% and the significance level of 5%, we fail to reject the null hypothesis given that p_value > significance level. That also means that the difference of drives between iPhone and Android users is not statistically significant and likely due to chance."
   ]
  },
  {
   "cell_type": "markdown",
   "metadata": {
    "id": "Ab4e-W3mzX6r"
   },
   "source": [
    "<img src=\"images/Execute.png\" width=\"100\" height=\"100\" align=left>\n",
    "\n",
    "## **PACE: Execute**\n"
   ]
  },
  {
   "cell_type": "markdown",
   "metadata": {
    "id": "h1PRfiD3hcwE"
   },
   "source": [
    "### **Task 4. Communicate insights with stakeholders**"
   ]
  },
  {
   "cell_type": "markdown",
   "metadata": {
    "id": "ItreFaZKhvVw"
   },
   "source": [
    "Consider the following question as you prepare to write your executive summary:\n",
    "\n",
    "* What business insight(s) can we draw from the result of your hypothesis test?"
   ]
  },
  {
   "cell_type": "markdown",
   "metadata": {
    "id": "-CgNingVY4Bw"
   },
   "source": [
    "> The difference in the mean number of drives per device type was not concluded to be statistically significant, indicating that it occured due chance and sampling variability. Both user types, therefore, have similar behavior in terms of number of drives (but not necessarely in other paremeters). For further analysis, more data could be collected and direct the focus of analysis towards the variations of number of drives among users (for instance, understand better users that have very elevated numbero of drives versus users that are assumed to be more casual)."
   ]
  }
 ],
 "metadata": {
  "colab": {
   "provenance": [
    {
     "file_id": "1VMShPM3amGvcOZx0J5yHz1kb04rzCFvN",
     "timestamp": 1671052168408
    },
    {
     "file_id": "1su07KaK4RI6MI85tMf2H19qop9LcqqDy",
     "timestamp": 1669648371757
    },
    {
     "file_id": "1f5FzGbEQi1DvhHY8u-K32sklfpgir_pK",
     "timestamp": 1669589913543
    }
   ]
  },
  "kernelspec": {
   "display_name": "Python 3",
   "language": "python",
   "name": "python3"
  },
  "language_info": {
   "codemirror_mode": {
    "name": "ipython",
    "version": 3
   },
   "file_extension": ".py",
   "mimetype": "text/x-python",
   "name": "python",
   "nbconvert_exporter": "python",
   "pygments_lexer": "ipython3",
   "version": "3.7.6"
  }
 },
 "nbformat": 4,
 "nbformat_minor": 1
}
